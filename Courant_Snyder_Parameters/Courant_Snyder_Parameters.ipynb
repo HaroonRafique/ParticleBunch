{
 "cells": [
  {
   "cell_type": "markdown",
   "metadata": {
    "slideshow": {
     "slide_type": "slide"
    }
   },
   "source": [
    "# `PyParticleBunch`\n",
    "## `Courant-Snyder` Parameters \n",
    "---"
   ]
  },
  {
   "cell_type": "markdown",
   "metadata": {
    "slideshow": {
     "slide_type": "skip"
    }
   },
   "source": [
    "> Function to convert jupyter notebook to slides"
   ]
  },
  {
   "cell_type": "code",
   "execution_count": 1,
   "metadata": {
    "slideshow": {
     "slide_type": "skip"
    }
   },
   "outputs": [],
   "source": [
    "import os \n",
    "# Note running this slideshow requires a copy of reveal.js (version 4.x).\n",
    "    \n",
    "def jupyter_notebook_to_slides(current_notebook_name):\n",
    "    slides_name = current_notebook_name[:-6] + '.slides.html'\n",
    "    if os.path.isfile(slides_name):\n",
    "        os.remove(slides_name)\n",
    "    os.system('jupyter nbconvert '+current_notebook_name+' --to slides --post serve')\n",
    "    return"
   ]
  },
  {
   "cell_type": "markdown",
   "metadata": {
    "slideshow": {
     "slide_type": "skip"
    }
   },
   "source": [
    "> Run this cell to convert this notebook into html slides\n",
    "> Remember to:\n",
    "> - save and checkpoint the slides before converting\n",
    "> - clear your browser cache if wierd things are happening (changes not shown)\n",
    "> - interrupt/stop this cell after exiting the slideshow"
   ]
  },
  {
   "cell_type": "code",
   "execution_count": 2,
   "metadata": {
    "slideshow": {
     "slide_type": "skip"
    }
   },
   "outputs": [],
   "source": [
    "run_slides=True \n",
    "if run_slides:\n",
    "    jupyter_notebook_to_slides('Courant_Snyder_Parameters.ipynb')"
   ]
  },
  {
   "cell_type": "markdown",
   "metadata": {
    "slideshow": {
     "slide_type": "slide"
    }
   },
   "source": [
    "## `Courant-Snyder` Parameters \n",
    "> ***'Theory of the Alternating-Gradient Synchrotron'***\n",
    ">\n",
    "> **E. D. Courant and H. S. Snyder**, \n",
    "> Brookhaven National Laboratory, Upton, New York, \n",
    "> Received July 15, **1957**, Annals of Physics 281, 360-408 (2000),\n",
    "> https://doi.org/10.1006/aphy.2000.6012, available online at\n",
    "> https://citeseerx.ist.psu.edu/viewdoc/download?doi=10.1.1.548.6222&rep=rep1&type=pdf"
   ]
  },
  {
   "cell_type": "markdown",
   "metadata": {
    "slideshow": {
     "slide_type": "fragment"
    }
   },
   "source": [
    "### Sometimes called `Twiss` parameters\n",
    "> ***Orbital Stability in a Proton Synchrotron***\n",
    ">\n",
    "> **R. Q. Twiss, and N. H. Frank**, \n",
    ">Research Laboratory of Electronics, Massachusetts Institute of Technology, Cambridge, Massachusetts, \n",
    ">Submitted 27 May, **1948**, Review of Scientific Instruments 20, 1 (1949) \n",
    ">https://doi.org/10.1063/1.1741343 available online at\n",
    ">https://aip.scitation.org/doi/pdf/10.1063/1.1741343?casa_token=4XhVS8mxeZ4AAAAA:LJhAvlpcplVVzuRGiEasvmg0hiORabUKHJu7WkSBG78JY0soPFFYvSdNTqdjc8G8yAQtj-52_Ao"
   ]
  },
  {
   "cell_type": "markdown",
   "metadata": {
    "slideshow": {
     "slide_type": "slide"
    }
   },
   "source": [
    "### Are given without derivation (see above references):\n",
    "> - $\\beta_{x,y}$   Sometimes referred to as the beta or betatron function\n",
    "> - $\\alpha_{x,y}$\n",
    "> - $\\gamma_{x,y}$"
   ]
  },
  {
   "cell_type": "markdown",
   "metadata": {
    "slideshow": {
     "slide_type": "slide"
    }
   },
   "source": [
    "## From \n",
    "> ***Beam Dynamics in High Energy Particle Accelerators***\n",
    "> <img src=\"wolski_cover.jpg\" width=\"50\" height=\"50\" />\n",
    "> **Andrej Wolski**, Imperial College Press\n",
    "> https://doi.org/10.1142/p899"
   ]
  },
  {
   "cell_type": "markdown",
   "metadata": {
    "slideshow": {
     "slide_type": "fragment"
    }
   },
   "source": [
    "### Page 133, equation 4.15:\n",
    "> The 2x2 transfer matrix $R_x$ for the horizontal motion can be written as:\n",
    "    > $R_x = I_2 cos(\\mu_x) + S_2 A_x sin(\\mu_x)$\n",
    "    "
   ]
  },
  {
   "cell_type": "markdown",
   "metadata": {
    "slideshow": {
     "slide_type": "slide"
    }
   },
   "source": [
    "### Equation 4.17:\n",
    "> Where the matrices:\n",
    "> - $I_2$ is the 2x2 identity matrix $I_2 = \\begin{pmatrix}\n",
    "1 & 0 \\\\\n",
    "0 & 1 \n",
    "\\end{pmatrix}$\n",
    "> - $S_2$ is the 2x2 antisymmetric matrix $I_2 = \\begin{pmatrix}\n",
    "0 & 1 \\\\\n",
    "-1 & 0 \n",
    "\\end{pmatrix}$\n",
    "> - $A_x$ is $A_x = \\begin{pmatrix}\n",
    "\\gamma_x & \\alpha_x \\\\\n",
    "\\alpha_x & \\beta_x \n",
    "\\end{pmatrix}$"
   ]
  },
  {
   "cell_type": "markdown",
   "metadata": {
    "slideshow": {
     "slide_type": "slide"
    }
   },
   "source": [
    "Thus we may show (See Wolski equation 4.19)\n",
    "\n",
    ">$\\beta_x \\gamma_x - \\alpha_x^2 = 1$"
   ]
  },
  {
   "cell_type": "markdown",
   "metadata": {
    "slideshow": {
     "slide_type": "fragment"
    }
   },
   "source": [
    "The transfer matrix $R_x$ may be written as (equation **4.20**):\n",
    "\n",
    ">$R_x= \\begin{pmatrix}\n",
    "cos(\\mu_x) + \\alpha_x sin(\\mu_x) & \\beta_x sin(\\mu_x) \\\\\n",
    "-\\gamma_x sin(\\mu_x) & cos(\\mu_x) - \\alpha_x sin(\\mu_x) \n",
    "\\end{pmatrix}$"
   ]
  },
  {
   "cell_type": "markdown",
   "metadata": {
    "slideshow": {
     "slide_type": "skip"
    }
   },
   "source": [
    "The phase advance can be obtained from the trace of the transfer matrix (equation 4.21):\n",
    "\n",
    "> $Trace(R_x) = 2cos(\\mu_x)$\n",
    ">\n",
    ">\n",
    "\n",
    "Or:\n",
    "> $\\mu_x = cos^{-1} \\left( \\frac{Trace(R_x)}{2} \\right)$"
   ]
  },
  {
   "cell_type": "markdown",
   "metadata": {
    "slideshow": {
     "slide_type": "slide"
    }
   },
   "source": [
    "# Action Angle Variables\n",
    "\n",
    "We define the action variable $J_x$:\n",
    "> $J_x = \\frac{1}{2} \\begin{pmatrix}x & p_x\\end{pmatrix} A_x \\begin{pmatrix}x \\\\p_x\\end{pmatrix}$\n",
    "\n",
    "which is invariant under transport along the beam line."
   ]
  },
  {
   "cell_type": "markdown",
   "metadata": {
    "slideshow": {
     "slide_type": "fragment"
    }
   },
   "source": [
    "We may write the action as:\n",
    "> $J_x = \\frac{1}{2} \\left( \\gamma_x x^2 + 2 \\alpha_x x p_x + \\beta_x p_x^2  \\right)$"
   ]
  },
  {
   "cell_type": "markdown",
   "metadata": {
    "slideshow": {
     "slide_type": "fragment"
    }
   },
   "source": [
    "We define the angle variable $\\phi_x$:\n",
    "> $tan(\\phi_x) = -\\beta_x \\frac{p_x}{x} - \\alpha_x$"
   ]
  },
  {
   "cell_type": "markdown",
   "metadata": {
    "slideshow": {
     "slide_type": "slide"
    }
   },
   "source": [
    "Using these expressions we may convert between phase space co-ordinates $(x, p_x)$ and action-angle co-ordinates $(J_x, \\phi_x)$:\n",
    "\n",
    "> $x = \\sqrt{2 \\beta_x J_x}cos(\\phi_x)$\n",
    "\n",
    "> $p_x = -\\sqrt{\\frac{2 J_x}{\\beta_x}}\\left( sin(\\phi_x) + \\alpha_x cos(\\phi_x)\\right)$"
   ]
  }
 ],
 "metadata": {
  "kernelspec": {
   "display_name": "Python 3",
   "language": "python",
   "name": "python3"
  },
  "language_info": {
   "codemirror_mode": {
    "name": "ipython",
    "version": 3
   },
   "file_extension": ".py",
   "mimetype": "text/x-python",
   "name": "python",
   "nbconvert_exporter": "python",
   "pygments_lexer": "ipython3",
   "version": "3.9.5"
  }
 },
 "nbformat": 4,
 "nbformat_minor": 2
}
